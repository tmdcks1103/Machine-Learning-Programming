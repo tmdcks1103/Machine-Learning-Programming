{
  "nbformat": 4,
  "nbformat_minor": 0,
  "metadata": {
    "colab": {
      "provenance": [],
      "authorship_tag": "ABX9TyOBwOGsKvhmI9PtMcAwlAxF",
      "include_colab_link": true
    },
    "kernelspec": {
      "name": "python3",
      "display_name": "Python 3"
    },
    "language_info": {
      "name": "python"
    }
  },
  "cells": [
    {
      "cell_type": "markdown",
      "metadata": {
        "id": "view-in-github",
        "colab_type": "text"
      },
      "source": [
        "<a href=\"https://colab.research.google.com/github/tmdcks1103/Machine-Learning-Programming/blob/main/5%EC%A3%BC%EC%B0%A8/Cursive_ML.ipynb\" target=\"_parent\"><img src=\"https://colab.research.google.com/assets/colab-badge.svg\" alt=\"Open In Colab\"/></a>"
      ]
    },
    {
      "cell_type": "code",
      "execution_count": 18,
      "metadata": {
        "colab": {
          "base_uri": "https://localhost:8080/",
          "height": 430
        },
        "id": "o8j7-np__28H",
        "outputId": "56f7ebd8-36ec-4029-df9b-4a10d2e26918"
      },
      "outputs": [
        {
          "output_type": "display_data",
          "data": {
            "text/plain": [
              "<Figure size 640x480 with 1 Axes>"
            ],
            "image/png": "[encoded data removed]"
          },
          "metadata": {}
        }
      ],
      "source": [
        "import matplotlib.pyplot as plt\n",
        "\n",
        "from sklearn.model_selection import train_test_split\n",
        "from sklearn.tree import DecisionTreeClassifier\n",
        "from sklearn.ensemble import RandomForestClassifier\n",
        "from sklearn.linear_model import LogisticRegression\n",
        "from sklearn.metrics import accuracy_score\n",
        "from sklearn.neighbors import KNeighborsClassifier\n",
        "from sklearn.preprocessing import LabelEncoder\n",
        "from sklearn.preprocessing import StandardScaler\n",
        "from sklearn import datasets, metrics\n",
        "\n",
        "# 손글씨 숫자 데이터셋 불러오기\n",
        "digits = datasets.load_digits()\n",
        "\n",
        "# 데이터셋 첫 번째 이미지 확인\n",
        "plt.imshow(digits.images[0], cmap=plt.cm.gray_r, interpolation='nearest')\n",
        "plt.show()"
      ]
    },
    {
      "cell_type": "code",
      "source": [
        "# 이미지 개수 확인 및 1차원 배열로 변환\n",
        "n_samples = len(digits.images)\n",
        "data = digits.images.reshape((n_samples, -1))"
      ],
      "metadata": {
        "id": "XcCq1j4QQyU1"
      },
      "execution_count": 19,
      "outputs": []
    },
    {
      "cell_type": "code",
      "source": [
        "# 데이터 분리 학습/테스트\n",
        "X_train, X_test, y_train, y_test = train_test_split(\n",
        "    data, digits.target, test_size=0.2)\n",
        "\n",
        "# 스케일링 수행\n",
        "scaler = StandardScaler()\n",
        "X_train_scaled = scaler.fit_transform(X_train)\n",
        "X_test_scaled = scaler.transform(X_test)"
      ],
      "metadata": {
        "id": "zftdFCamQ7hJ"
      },
      "execution_count": 20,
      "outputs": []
    },
    {
      "cell_type": "code",
      "source": [
        "# 모델 생성\n",
        "dt = DecisionTreeClassifier(random_state=42)\n",
        "rf = RandomForestClassifier(n_estimators=200, random_state=42)\n",
        "lr = LogisticRegression(max_iter=2000)\n",
        "knn = KNeighborsClassifier(n_neighbors=50)"
      ],
      "metadata": {
        "id": "viYrQGMnQ7ja"
      },
      "execution_count": 21,
      "outputs": []
    },
    {
      "cell_type": "code",
      "source": [
        "# 모델 학습\n",
        "print(\"모델 학습을 시작합니다...\")\n",
        "dt.fit(X_train_scaled, y_train)\n",
        "rf.fit(X_train_scaled, y_train)\n",
        "lr.fit(X_train_scaled, y_train)\n",
        "knn.fit(X_train_scaled, y_train)\n",
        "print(\"학습 완료.\")\n",
        "print(\"-\" * 30)"
      ],
      "metadata": {
        "colab": {
          "base_uri": "https://localhost:8080/"
        },
        "id": "nkVObD6KVUsA",
        "outputId": "4e9879c0-4332-48b0-f227-19baf9a6d612"
      },
      "execution_count": 22,
      "outputs": [
        {
          "output_type": "stream",
          "name": "stdout",
          "text": [
            "모델 학습을 시작합니다...\n",
            "학습 완료.\n",
            "------------------------------\n"
          ]
        }
      ]
    },
    {
      "cell_type": "code",
      "source": [
        "# 테스트 데이터 예측 및 정확도 계산\n",
        "dt_acc = accuracy_score(y_test, dt.predict(X_test_scaled))\n",
        "rf_acc = accuracy_score(y_test, rf.predict(X_test_scaled))\n",
        "lr_acc = accuracy_score(y_test, lr.predict(X_test_scaled))\n",
        "knn_acc = accuracy_score(y_test, knn.predict(X_test_scaled))\n",
        "\n",
        "print(\"=== DT Test Accuracy ===\")\n",
        "print(f\"Decision Tree : {dt_acc:.4f}\")\n",
        "print()\n",
        "\n",
        "print(\"=== RF Test Accuracy ===\")\n",
        "print(f\"Random Forest : {rf_acc:.4f}\")\n",
        "print()\n",
        "\n",
        "print(\"=== LR Test Accuracy ===\")\n",
        "print(f\"Logistic Reg. : {lr_acc:.4f}\")\n",
        "print()\n",
        "\n",
        "print(\"=== KNN Test Accuracy ===\")\n",
        "print(f\"KNN : {knn_acc:.4f}\")\n",
        ""
      ],
      "metadata": {
        "colab": {
          "base_uri": "https://localhost:8080/"
        },
        "id": "0OIKPIqnUKIq",
        "outputId": "7ce73631-58da-4997-b0e3-86d28bb1fa45"
      },
      "execution_count": 23,
      "outputs": [
        {
          "output_type": "stream",
          "name": "stdout",
          "text": [
            "=== DT Test Accuracy ===\n",
            "Decision Tree : 0.8639\n",
            "\n",
            "=== RF Test Accuracy ===\n",
            "Random Forest : 0.9694\n",
            "\n",
            "=== LR Test Accuracy ===\n",
            "Logistic Reg. : 0.9667\n",
            "\n",
            "=== KNN Test Accuracy ===\n",
            "KNN : 0.9028\n"
          ]
        }
      ]
    }
  ]
}